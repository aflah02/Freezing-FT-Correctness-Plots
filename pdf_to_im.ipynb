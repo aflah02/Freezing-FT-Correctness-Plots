{
 "cells": [
  {
   "cell_type": "code",
   "execution_count": 1,
   "metadata": {},
   "outputs": [
    {
     "name": "stderr",
     "output_type": "stream",
     "text": [
      "\n",
      "[notice] A new release of pip is available: 23.2.1 -> 23.3.1\n",
      "[notice] To update, run: python.exe -m pip install --upgrade pip\n"
     ]
    }
   ],
   "source": [
    "!pip install PyMuPDF -q"
   ]
  },
  {
   "cell_type": "code",
   "execution_count": 2,
   "metadata": {},
   "outputs": [],
   "source": [
    "import os\n",
    "import fitz"
   ]
  },
  {
   "cell_type": "code",
   "execution_count": 3,
   "metadata": {},
   "outputs": [],
   "source": [
    "trained_dir = 'trained_plots'\n",
    "untrained_dir = 'untrained_plots'\n",
    "trained_image_dir = 'trained_plots_images'\n",
    "untrained_image_dir = 'untrained_plots_images'"
   ]
  },
  {
   "cell_type": "code",
   "execution_count": 4,
   "metadata": {},
   "outputs": [],
   "source": [
    "def convert_pdf_to_image(pdf_path, save_path):\n",
    "    pdffile = pdf_path\n",
    "    doc = fitz.open(pdffile)\n",
    "    page = doc.load_page(0)  # number of page\n",
    "    pix = page.get_pixmap()\n",
    "    output = save_path\n",
    "    pix.save(output)\n",
    "    doc.close()"
   ]
  },
  {
   "cell_type": "code",
   "execution_count": 5,
   "metadata": {},
   "outputs": [],
   "source": [
    "trained_folders = os.listdir(trained_dir)\n",
    "untrained_folders = os.listdir(untrained_dir)"
   ]
  },
  {
   "cell_type": "code",
   "execution_count": 7,
   "metadata": {},
   "outputs": [],
   "source": [
    "# Make folders for images with same name as pdfs\n",
    "for folder in trained_folders:\n",
    "    if not os.path.exists(os.path.join(trained_image_dir, folder)):\n",
    "        os.mkdir(os.path.join(trained_image_dir, folder))\n",
    "for folder in untrained_folders:\n",
    "    if not os.path.exists(os.path.join(untrained_image_dir, folder)):\n",
    "        os.mkdir(os.path.join(untrained_image_dir, folder))"
   ]
  },
  {
   "cell_type": "code",
   "execution_count": 8,
   "metadata": {},
   "outputs": [],
   "source": [
    "for folder in trained_folders:\n",
    "    pdfs = os.listdir(os.path.join(trained_dir, folder))\n",
    "    for pdf in pdfs:\n",
    "        pdf_path = os.path.join(trained_dir, folder, pdf)\n",
    "        save_path = os.path.join(trained_image_dir, folder, pdf.split('.')[0] + '.png')\n",
    "        convert_pdf_to_image(pdf_path, save_path)"
   ]
  },
  {
   "cell_type": "code",
   "execution_count": 9,
   "metadata": {},
   "outputs": [],
   "source": [
    "for folder in untrained_folders:\n",
    "    pdfs = os.listdir(os.path.join(untrained_dir, folder))\n",
    "    for pdf in pdfs:\n",
    "        pdf_path = os.path.join(untrained_dir, folder, pdf)\n",
    "        save_path = os.path.join(untrained_image_dir, folder, pdf.split('.')[0] + '.png')\n",
    "        convert_pdf_to_image(pdf_path, save_path)"
   ]
  },
  {
   "cell_type": "code",
   "execution_count": null,
   "metadata": {},
   "outputs": [],
   "source": []
  }
 ],
 "metadata": {
  "kernelspec": {
   "display_name": "Python 3",
   "language": "python",
   "name": "python3"
  },
  "language_info": {
   "codemirror_mode": {
    "name": "ipython",
    "version": 3
   },
   "file_extension": ".py",
   "mimetype": "text/x-python",
   "name": "python",
   "nbconvert_exporter": "python",
   "pygments_lexer": "ipython3",
   "version": "3.11.4"
  }
 },
 "nbformat": 4,
 "nbformat_minor": 2
}
